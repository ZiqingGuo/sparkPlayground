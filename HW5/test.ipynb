{
 "cells": [
  {
   "cell_type": "code",
   "execution_count": 8,
   "metadata": {},
   "outputs": [
    {
     "name": "stdout",
     "output_type": "stream",
     "text": [
      "{'ID_10000_10_200': 1.5627438445302142, 'ID_10000_200_700': 1.311602457113215, 'ID_10000_700_2000': 1.1791377954969884, 'ID_20000_10_200': 1.5580396361621696, 'ID_20000_200_700': 1.2147049931443543, 'ID_20000_700_2000': 1.0865238559177823}\n"
     ]
    }
   ],
   "source": [
    "import pickle as pk\n",
    "with open(\"results.pkl\",\"rb\") as file:\n",
    "    d = pk.load(file)\n",
    "print(d)"
   ]
  },
  {
   "cell_type": "code",
   "execution_count": null,
   "metadata": {},
   "outputs": [],
   "source": []
  },
  {
   "cell_type": "code",
   "execution_count": null,
   "metadata": {},
   "outputs": [],
   "source": []
  }
 ],
 "metadata": {
  "kernelspec": {
   "display_name": "Python 3",
   "language": "python",
   "name": "python3"
  },
  "language_info": {
   "codemirror_mode": {
    "name": "ipython",
    "version": 3
   },
   "file_extension": ".py",
   "mimetype": "text/x-python",
   "name": "python",
   "nbconvert_exporter": "python",
   "pygments_lexer": "ipython3",
   "version": "3.6.5"
  }
 },
 "nbformat": 4,
 "nbformat_minor": 2
}
