{
 "cells": [
  {
   "cell_type": "markdown",
   "metadata": {
    "deletable": false,
    "editable": false,
    "nbgrader": {
     "checksum": "b912f5ac402ff2ba0070cc6a6d894771",
     "grade": false,
     "grade_id": "cell-2beb19248750c680",
     "locked": true,
     "schema_version": 1,
     "solution": false
    }
   },
   "source": [
    "# Stock category prediction using XGBoost"
   ]
  },
  {
   "cell_type": "code",
   "execution_count": 1,
   "metadata": {
    "ExecuteTime": {
     "end_time": "2018-06-10T23:15:58.413651Z",
     "start_time": "2018-06-10T23:15:57.612822Z"
    },
    "deletable": false,
    "editable": false,
    "nbgrader": {
     "checksum": "8af6dc349ab2bd231dccd3f9874275a3",
     "grade": false,
     "grade_id": "cell-dd2433d1712e4dd7",
     "locked": true,
     "schema_version": 1,
     "solution": false
    }
   },
   "outputs": [
    {
     "name": "stdout",
     "output_type": "stream",
     "text": [
      "Populating the interactive namespace from numpy and matplotlib\n"
     ]
    }
   ],
   "source": [
    "import pickle\n",
    "import pandas as pd\n",
    "import numpy as np\n",
    "import xgboost as xgb\n",
    "from sklearn.model_selection import train_test_split\n",
    "%pylab inline"
   ]
  },
  {
   "cell_type": "markdown",
   "metadata": {
    "deletable": false,
    "editable": false,
    "nbgrader": {
     "checksum": "c0f58378dd49d44abbe2d8b1b6d7df61",
     "grade": false,
     "grade_id": "cell-35c72b8f613eae6b",
     "locked": true,
     "schema_version": 1,
     "solution": false
    }
   },
   "source": [
    "## Read PCA parameters"
   ]
  },
  {
   "cell_type": "code",
   "execution_count": 2,
   "metadata": {
    "ExecuteTime": {
     "end_time": "2018-06-10T23:16:00.199628Z",
     "start_time": "2018-06-10T23:16:00.177298Z"
    },
    "deletable": false,
    "editable": false,
    "nbgrader": {
     "checksum": "c1c2ef94810b9cd1128f267f3de29682",
     "grade": false,
     "grade_id": "cell-acfd434506ba7be1",
     "locked": true,
     "schema_version": 1,
     "solution": false
    }
   },
   "outputs": [],
   "source": [
    "D=pickle.load(open('data/PCA.pickle','rb'))\n",
    "col=D['columns']\n",
    "eigvec=D['eigvec']\n",
    "eigval=D['eigval']"
   ]
  },
  {
   "cell_type": "markdown",
   "metadata": {
    "deletable": false,
    "editable": false,
    "nbgrader": {
     "checksum": "8ffa551c552abf5f489db78b8d9139b8",
     "grade": false,
     "grade_id": "cell-9f516e49dc08b136",
     "locked": true,
     "schema_version": 1,
     "solution": false
    }
   },
   "source": [
    "### Sanity check\n",
    "The following scatterplot should be very similar to the scatter plot you produced in notebook 3 for eigvec 1, eigvec 2 (indexing starts with 1)"
   ]
  },
  {
   "cell_type": "code",
   "execution_count": 3,
   "metadata": {
    "ExecuteTime": {
     "end_time": "2018-06-10T23:16:02.372807Z",
     "start_time": "2018-06-10T23:16:02.088637Z"
    },
    "deletable": false,
    "editable": false,
    "nbgrader": {
     "checksum": "8aa083e900a542cf21cc196babada36a",
     "grade": false,
     "grade_id": "cell-89d72fab9ee2f887",
     "locked": true,
     "schema_version": 1,
     "solution": false
    }
   },
   "outputs": [
    {
     "data": {
      "text/plain": [
       "<matplotlib.collections.PathCollection at 0x7fb4fde5deb8>"
      ]
     },
     "execution_count": 3,
     "metadata": {},
     "output_type": "execute_result"
    },
    {
     "data": {
      "image/png": "[encoded data removed]",
      "text/plain": [
       "<Figure size 432x288 with 1 Axes>"
      ]
     },
     "metadata": {},
     "output_type": "display_data"
    }
   ],
   "source": [
    "scatter(eigvec[:,0],eigvec[:,1])"
   ]
  },
  {
   "cell_type": "markdown",
   "metadata": {
    "deletable": false,
    "editable": false,
    "nbgrader": {
     "checksum": "c4e07c467a7deff1b30a00ec7726f4e0",
     "grade": false,
     "grade_id": "cell-caead6f6257eae66",
     "locked": true,
     "schema_version": 1,
     "solution": false
    }
   },
   "source": [
    "## compute features"
   ]
  },
  {
   "cell_type": "code",
   "execution_count": 4,
   "metadata": {
    "ExecuteTime": {
     "end_time": "2018-06-10T23:16:41.423735Z",
     "start_time": "2018-06-10T23:16:41.416340Z"
    },
    "deletable": false,
    "editable": false,
    "nbgrader": {
     "checksum": "c941c8b8de349448e9d58508de933d93",
     "grade": false,
     "grade_id": "cell-25ab4021327ffdfd",
     "locked": true,
     "schema_version": 1,
     "solution": false
    }
   },
   "outputs": [
    {
     "data": {
      "text/plain": [
       "(481, 20)"
      ]
     },
     "execution_count": 4,
     "metadata": {},
     "output_type": "execute_result"
    }
   ],
   "source": [
    "#Taking the top 20 features(Eigen vectors)\n",
    "features=eigvec[:,:20]\n",
    "features.shape"
   ]
  },
  {
   "cell_type": "markdown",
   "metadata": {
    "deletable": false,
    "editable": false,
    "nbgrader": {
     "checksum": "2d9ca3bdf60af9b800c588fe9ee865ab",
     "grade": false,
     "grade_id": "cell-9eeb8f35efa872a6",
     "locked": true,
     "schema_version": 1,
     "solution": false
    }
   },
   "source": [
    "##  Compute labels (sectors)"
   ]
  },
  {
   "cell_type": "code",
   "execution_count": 6,
   "metadata": {
    "ExecuteTime": {
     "end_time": "2018-06-10T23:17:38.401748Z",
     "start_time": "2018-06-10T23:17:38.374923Z"
    },
    "deletable": false,
    "editable": false,
    "nbgrader": {
     "checksum": "a83264d85eb8b8a305e7ef96c719fa1d",
     "grade": false,
     "grade_id": "cell-904d92c63c6ced4f",
     "locked": true,
     "schema_version": 1,
     "solution": false
    }
   },
   "outputs": [
    {
     "name": "stdout",
     "output_type": "stream",
     "text": [
      "(505, 5)\n"
     ]
    },
    {
     "data": {
      "text/html": [
       "<div>\n",
       "<style scoped>\n",
       "    .dataframe tbody tr th:only-of-type {\n",
       "        vertical-align: middle;\n",
       "    }\n",
       "\n",
       "    .dataframe tbody tr th {\n",
       "        vertical-align: top;\n",
       "    }\n",
       "\n",
       "    .dataframe thead th {\n",
       "        text-align: right;\n",
       "    }\n",
       "</style>\n",
       "<table border=\"1\" class=\"dataframe\">\n",
       "  <thead>\n",
       "    <tr style=\"text-align: right;\">\n",
       "      <th></th>\n",
       "      <th>Unnamed: 0</th>\n",
       "      <th>Ticker</th>\n",
       "      <th>Name</th>\n",
       "      <th>Sector</th>\n",
       "      <th>SECTOR_ID</th>\n",
       "    </tr>\n",
       "  </thead>\n",
       "  <tbody>\n",
       "    <tr>\n",
       "      <th>0</th>\n",
       "      <td>0</td>\n",
       "      <td>MMM</td>\n",
       "      <td>3M|3M Company</td>\n",
       "      <td>Industrials</td>\n",
       "      <td>INDS</td>\n",
       "    </tr>\n",
       "    <tr>\n",
       "      <th>1</th>\n",
       "      <td>1</td>\n",
       "      <td>ABT</td>\n",
       "      <td>Abbott Laboratories</td>\n",
       "      <td>Health Care</td>\n",
       "      <td>HC</td>\n",
       "    </tr>\n",
       "    <tr>\n",
       "      <th>2</th>\n",
       "      <td>2</td>\n",
       "      <td>ABBV</td>\n",
       "      <td>AbbVie Inc.</td>\n",
       "      <td>Health Care</td>\n",
       "      <td>HC</td>\n",
       "    </tr>\n",
       "    <tr>\n",
       "      <th>3</th>\n",
       "      <td>3</td>\n",
       "      <td>ACN</td>\n",
       "      <td>Accenture plc</td>\n",
       "      <td>Information Technology</td>\n",
       "      <td>IT</td>\n",
       "    </tr>\n",
       "    <tr>\n",
       "      <th>4</th>\n",
       "      <td>4</td>\n",
       "      <td>ATVI</td>\n",
       "      <td>Activision Blizzard</td>\n",
       "      <td>Information Technology</td>\n",
       "      <td>IT</td>\n",
       "    </tr>\n",
       "  </tbody>\n",
       "</table>\n",
       "</div>"
      ],
      "text/plain": [
       "   Unnamed: 0 Ticker                 Name                  Sector SECTOR_ID\n",
       "0           0    MMM        3M|3M Company             Industrials      INDS\n",
       "1           1    ABT  Abbott Laboratories             Health Care        HC\n",
       "2           2   ABBV          AbbVie Inc.             Health Care        HC\n",
       "3           3    ACN        Accenture plc  Information Technology        IT\n",
       "4           4   ATVI  Activision Blizzard  Information Technology        IT"
      ]
     },
     "execution_count": 6,
     "metadata": {},
     "output_type": "execute_result"
    }
   ],
   "source": [
    "TickerInfo=pd.read_csv('data/TickerInfo.tsv',sep='\\t')\n",
    "print(TickerInfo.shape)\n",
    "TickerInfo.head()"
   ]
  },
  {
   "cell_type": "markdown",
   "metadata": {
    "deletable": false,
    "editable": false,
    "nbgrader": {
     "checksum": "d9bd191b5d5d334e4307277ab8e7ce13",
     "grade": false,
     "grade_id": "cell-e270636f68791e01",
     "locked": true,
     "schema_version": 1,
     "solution": false
    }
   },
   "source": [
    "## Creating necessary dictionaries"
   ]
  },
  {
   "cell_type": "markdown",
   "metadata": {
    "deletable": false,
    "editable": false,
    "nbgrader": {
     "checksum": "7b2091e3b58790a109f384b7a5b16f4e",
     "grade": false,
     "grade_id": "cell-bcff91d92cda4ce8",
     "locked": true,
     "schema_version": 1,
     "solution": false
    }
   },
   "source": [
    "The Sectors dictionary below has the Sector name mapped to the sector ID. Using the Sectors dictionary below, create a dictionary mapping of the sector ID to indices incrementally as follows:\n",
    "\n",
    "```\n",
    "{\n",
    "    'CD': 0,\n",
    "    'CS': 1,\n",
    "    'EN': 2,\n",
    "    'FIN': 3,\n",
    "    'HC': 4,\n",
    "    'INDS': 5,\n",
    "    'IT': 6,\n",
    "    'MAT': 7,\n",
    "    'RE': 8,\n",
    "    'TS': 9,\n",
    "    'UTIL': 10\n",
    "}\n",
    "```\n",
    "\n",
    "In addition to this, you will need to create one more dictionary mapping index number to the sector name:\n",
    "```\n",
    "{\n",
    "    0: 'Consumer Discretionary',\n",
    "    1: 'Consumer Staples',\n",
    "    2: 'Energy',\n",
    "    3: 'Financials',\n",
    "    4: 'Health Care',\n",
    "    5: 'Industrials',\n",
    "    6: 'Information Technology',\n",
    "    7: 'Materials',\n",
    "    8: 'Real Estate',\n",
    "    9: 'Telecommunication Services',\n",
    "    10: 'Utilities'\n",
    "}\n",
    " ```\n",
    " \n",
    "**<font color=\"magenta\" size=2>Input</font>**\n",
    "<br>\n",
    "A dictionary **Sectors** as given in the following cell.\n",
    "\n",
    "**<font color=\"blue\" size=2>Output</font>**\n",
    "<br>\n",
    "Return two dictionaries **sector2number** and **number2sectorName** as mentioned in the description."
   ]
  },
  {
   "cell_type": "code",
   "execution_count": 9,
   "metadata": {
    "ExecuteTime": {
     "end_time": "2018-06-10T23:33:35.657052Z",
     "start_time": "2018-06-10T23:33:35.649365Z"
    },
    "deletable": false,
    "editable": false,
    "nbgrader": {
     "checksum": "be8b3b6a5b9075da8780ee91f4d38ff5",
     "grade": false,
     "grade_id": "cell-7e163b9f4a2312c8",
     "locked": true,
     "schema_version": 1,
     "solution": false
    }
   },
   "outputs": [],
   "source": [
    "Sectors={'Consumer Discretionary':'CD',\n",
    " 'Consumer Staples':'CS',\n",
    " 'Energy':'EN',\n",
    " 'Financials':'FIN',\n",
    " 'Health Care':'HC',\n",
    " 'Industrials':'INDS',\n",
    " 'Information Technology':'IT',\n",
    " 'Materials':'MAT',\n",
    " 'Real Estate':'RE',\n",
    " 'Telecommunication Services':'TS',\n",
    " 'Utilities':'UTIL'}\n"
   ]
  },
  {
   "cell_type": "code",
   "execution_count": 16,
   "metadata": {
    "ExecuteTime": {
     "end_time": "2018-06-10T23:35:18.104095Z",
     "start_time": "2018-06-10T23:35:18.094025Z"
    },
    "deletable": false,
    "nbgrader": {
     "checksum": "887f673416c7f4961c50f89cbe430f2a",
     "grade": false,
     "grade_id": "cell-48e618d54073cb44",
     "locked": false,
     "schema_version": 1,
     "solution": true
    }
   },
   "outputs": [],
   "source": [
    "def get_sector_dicts(Sectors):\n",
    "    sector2number = {}\n",
    "    number2sectorName = {}\n",
    "    counter = 0\n",
    "    for k,v in Sectors.items():\n",
    "        sector2number[v] = counter\n",
    "        number2sectorName[counter] = k\n",
    "        counter+=1\n",
    "        \n",
    "    return sector2number, number2sectorName"
   ]
  },
  {
   "cell_type": "code",
   "execution_count": 17,
   "metadata": {
    "ExecuteTime": {
     "end_time": "2018-06-10T23:35:18.382842Z",
     "start_time": "2018-06-10T23:35:18.377481Z"
    },
    "deletable": false,
    "editable": false,
    "nbgrader": {
     "checksum": "a834c59dff286598b8eff967d15d5fa7",
     "grade": false,
     "grade_id": "cell-8969b6dbb6161bce",
     "locked": true,
     "schema_version": 1,
     "solution": false
    }
   },
   "outputs": [],
   "source": [
    "sector2number, number2sectorName = get_sector_dicts(Sectors)"
   ]
  },
  {
   "cell_type": "code",
   "execution_count": null,
   "metadata": {
    "ExecuteTime": {
     "end_time": "2018-06-10T07:44:26.573704Z",
     "start_time": "2018-06-10T07:44:26.564836Z"
    },
    "deletable": false,
    "editable": false,
    "nbgrader": {
     "checksum": "b35e746ae35afcc53c8dbf40705a8083",
     "grade": true,
     "grade_id": "cell-79897da0f4f488a4",
     "locked": true,
     "points": 2,
     "schema_version": 1,
     "solution": false
    }
   },
   "outputs": [],
   "source": [
    "# Hidden Tests here"
   ]
  },
  {
   "cell_type": "code",
   "execution_count": 18,
   "metadata": {
    "ExecuteTime": {
     "end_time": "2018-06-10T23:35:27.602249Z",
     "start_time": "2018-06-10T23:35:27.207188Z"
    },
    "deletable": false,
    "editable": false,
    "nbgrader": {
     "checksum": "b92db7b5267af6b283e51a69678d1997",
     "grade": false,
     "grade_id": "cell-76dfe40b2999cb01",
     "locked": true,
     "schema_version": 1,
     "solution": false
    }
   },
   "outputs": [],
   "source": [
    "labels=[]\n",
    "feature_vectors=[]\n",
    "feature_vectors_test=[]\n",
    "test_nos = []\n",
    "for i in range(len(col)):\n",
    "    c=col[i]\n",
    "    if 'train' in c:\n",
    "        ticker=c[6:-2]\n",
    "        answer=list(TickerInfo[TickerInfo.Ticker==ticker]['SECTOR_ID'])\n",
    "        if len(answer)==1:\n",
    "            sector_no=sector2number[answer[0]]\n",
    "            labels.append(sector_no)\n",
    "            feature_vectors.append(features[i,:])\n",
    "        else:\n",
    "            print('error: could not find sector for ticker:',ticker)\n",
    "    if 'test' in c:\n",
    "        test_nos.append(c[5:-2])\n",
    "        feature_vectors_test.append(features[i,:])"
   ]
  },
  {
   "cell_type": "code",
   "execution_count": 19,
   "metadata": {
    "ExecuteTime": {
     "end_time": "2018-06-10T23:35:27.880800Z",
     "start_time": "2018-06-10T23:35:27.874084Z"
    },
    "deletable": false,
    "editable": false,
    "nbgrader": {
     "checksum": "31b81b4218a4e37fde25499b99429d5b",
     "grade": false,
     "grade_id": "cell-cd496764aef3e72c",
     "locked": true,
     "schema_version": 1,
     "solution": false
    }
   },
   "outputs": [
    {
     "data": {
      "text/plain": [
       "(392, 392, 89, 89)"
      ]
     },
     "execution_count": 19,
     "metadata": {},
     "output_type": "execute_result"
    }
   ],
   "source": [
    "len(labels),len(feature_vectors), len(test_nos),len(feature_vectors_test)"
   ]
  },
  {
   "cell_type": "markdown",
   "metadata": {
    "deletable": false,
    "editable": false,
    "nbgrader": {
     "checksum": "b3ad31c8fc9c22619612999ed34d7b95",
     "grade": false,
     "grade_id": "cell-1cd85daeb446cf50",
     "locked": true,
     "schema_version": 1,
     "solution": false
    }
   },
   "source": [
    "## XGBoost Setup"
   ]
  },
  {
   "cell_type": "code",
   "execution_count": 20,
   "metadata": {
    "ExecuteTime": {
     "end_time": "2018-06-10T23:35:32.701695Z",
     "start_time": "2018-06-10T23:35:32.688286Z"
    },
    "deletable": false,
    "editable": false,
    "nbgrader": {
     "checksum": "6b1b07c314e557b7bd701f95a7a7f086",
     "grade": false,
     "grade_id": "cell-5354908ece6c0677",
     "locked": true,
     "schema_version": 1,
     "solution": false
    }
   },
   "outputs": [
    {
     "data": {
      "text/plain": [
       "((392, 20), (392,), (89, 20), (89,))"
      ]
     },
     "execution_count": 20,
     "metadata": {},
     "output_type": "execute_result"
    }
   ],
   "source": [
    "X=np.array(feature_vectors)\n",
    "y=np.array(labels)\n",
    "X_test = np.array(feature_vectors_test)\n",
    "y_test = np.array(test_nos)\n",
    "X.shape, y.shape, X_test.shape, y_test.shape"
   ]
  },
  {
   "cell_type": "code",
   "execution_count": 21,
   "metadata": {
    "ExecuteTime": {
     "end_time": "2018-06-10T23:35:33.867555Z",
     "start_time": "2018-06-10T23:35:33.844499Z"
    },
    "deletable": false,
    "editable": false,
    "nbgrader": {
     "checksum": "1b0aaa287e3826854dda7e377dcdc778",
     "grade": false,
     "grade_id": "cell-2f563a060a7dabb5",
     "locked": true,
     "schema_version": 1,
     "solution": false
    }
   },
   "outputs": [
    {
     "data": {
      "text/plain": [
       "((274, 20), (118, 20))"
      ]
     },
     "execution_count": 21,
     "metadata": {},
     "output_type": "execute_result"
    }
   ],
   "source": [
    "#Splitting between train and validation\n",
    "X_train, X_valid, y_train, y_valid = train_test_split(X, y, test_size=0.30, random_state=6)\n",
    "X_train.shape, X_valid.shape"
   ]
  },
  {
   "cell_type": "code",
   "execution_count": 22,
   "metadata": {
    "ExecuteTime": {
     "end_time": "2018-06-10T23:35:34.874024Z",
     "start_time": "2018-06-10T23:35:34.851581Z"
    },
    "deletable": false,
    "editable": false,
    "nbgrader": {
     "checksum": "f1ba248b6354ec283175f0bdc568e932",
     "grade": false,
     "grade_id": "cell-e8794feabbdf7ddb",
     "locked": true,
     "schema_version": 1,
     "solution": false
    }
   },
   "outputs": [],
   "source": [
    "#Parameters\n",
    "param = {}\n",
    "param['max_depth']= 3   # depth of tree\n",
    "param['eta'] = 0.3      # shrinkage parameter\n",
    "param['silent'] = 1     # not silent\n",
    "param['objective'] = 'multi:softmax'\n",
    "param['nthread'] = 7 # Number of threads used\n",
    "param['num_class']=11\n",
    "\n",
    "num_round = 100"
   ]
  },
  {
   "cell_type": "markdown",
   "metadata": {
    "deletable": false,
    "editable": false,
    "nbgrader": {
     "checksum": "bc3218610857f84ad9ab9b4c649e8668",
     "grade": false,
     "grade_id": "cell-e9687a05751d0ab1",
     "locked": true,
     "schema_version": 1,
     "solution": false
    }
   },
   "source": [
    "## Generating scores using XGBoost\n",
    "\n",
    "The function <font color=\"blue\">get_margin_scores</font> is used to predict the sector for each of the given samples.\n",
    "\n",
    "**<font color=\"magenta\" size=2>Input</font>**\n",
    "<br>\n",
    "1. **Training set** (X_train)\n",
    "2. **Validation set** (X_valid)\n",
    "3. **Training labels** (y_train)\n",
    "4. **XGBoost Parameter List** (param)\n",
    "\n",
    "\n",
    "**<font color=\"blue\" size=2>Output</font>**\n",
    "<br>\n",
    "Return the following:\n",
    "1. **y_pred_valid**: The raw output scores for the validation set\n",
    "\n",
    "\n",
    "**Note**:\n",
    "1. Round all raw scores to **three** decimal places\n",
    "2. Remember to use **verbose_eval = False** while training and **ntree_limit=bst.best_ntree_limit** and **output_margin=True** while predicting"
   ]
  },
  {
   "cell_type": "code",
   "execution_count": 30,
   "metadata": {
    "ExecuteTime": {
     "end_time": "2018-06-10T23:49:05.259828Z",
     "start_time": "2018-06-10T23:49:05.243131Z"
    },
    "deletable": false,
    "nbgrader": {
     "checksum": "8c121695e479ca645988e304cc970a04",
     "grade": false,
     "grade_id": "cell-0e8f383f79318be9",
     "locked": false,
     "schema_version": 1,
     "solution": true
    }
   },
   "outputs": [],
   "source": [
    "def get_margin_scores(X_train, X_valid, y_train, param):\n",
    "    dtrain = xgb.DMatrix(X_train, label=y_train)\n",
    "    dtest = xgb.DMatrix(X_valid)\n",
    "    \n",
    "    bst = xgb.train(param, dtrain, verbose_eval=False)\n",
    "    y_pred_valid = bst.predict(dtest,output_margin=True, ntree_limit=bst.best_ntree_limit)\n",
    "    y_pred_valid = np.around(y_pred_valid,decimals = 3)\n",
    "    return y_pred_valid"
   ]
  },
  {
   "cell_type": "code",
   "execution_count": 31,
   "metadata": {
    "ExecuteTime": {
     "end_time": "2018-06-10T23:49:05.706182Z",
     "start_time": "2018-06-10T23:49:05.664856Z"
    },
    "deletable": false,
    "editable": false,
    "nbgrader": {
     "checksum": "9bf7145890ea7adf554bd8ef4126fded",
     "grade": false,
     "grade_id": "cell-b9e317c1fa1f35d3",
     "locked": true,
     "schema_version": 1,
     "solution": false
    }
   },
   "outputs": [],
   "source": [
    "y_pred_valid = get_margin_scores(X_train, X_valid, y_train, param)"
   ]
  },
  {
   "cell_type": "code",
   "execution_count": 29,
   "metadata": {
    "ExecuteTime": {
     "end_time": "2018-06-10T23:48:46.523916Z",
     "start_time": "2018-06-10T23:48:46.514646Z"
    },
    "deletable": false,
    "editable": false,
    "nbgrader": {
     "checksum": "a8d2b21fff239c3ce8dab9d29995feb7",
     "grade": true,
     "grade_id": "cell-121c650f46b392f8",
     "locked": true,
     "points": 0,
     "schema_version": 1,
     "solution": false
    }
   },
   "outputs": [],
   "source": [
    "assert y_pred_valid.shape == (118, 11), \"Incorrect shape\"\n",
    "assert type(y_pred_valid) == numpy.ndarray, \"Incorrect type\""
   ]
  },
  {
   "cell_type": "code",
   "execution_count": null,
   "metadata": {
    "ExecuteTime": {
     "end_time": "2018-06-10T07:44:28.204803Z",
     "start_time": "2018-06-10T07:44:28.186884Z"
    },
    "deletable": false,
    "editable": false,
    "nbgrader": {
     "checksum": "1eeb85ad97dca9d6998ba895cb7242a8",
     "grade": true,
     "grade_id": "cell-c9419ce7db9f474f",
     "locked": true,
     "points": 8,
     "schema_version": 1,
     "solution": false
    }
   },
   "outputs": [],
   "source": [
    "# Hidden Tests Here"
   ]
  },
  {
   "cell_type": "markdown",
   "metadata": {
    "deletable": false,
    "editable": false,
    "nbgrader": {
     "checksum": "9d39de86f5bf1aeb80b0d37009084da3",
     "grade": false,
     "grade_id": "cell-64d5475ceb1f9cdb",
     "locked": true,
     "schema_version": 1,
     "solution": false
    }
   },
   "source": [
    "## Computing Top1 and Top5 predictions\n",
    "\n",
    "Using the margin scores generated, calculate top1 and top5 predictions for the given data:\n",
    "\n",
    "**top1**: Find the most probable prediction for each example in the validation set\n",
    "\n",
    "**top5**: Find the top 5 most probable predictions in descending order for each example in the validation set (most probable to fifth most probabale)\n",
    "\n",
    "**<font color=\"magenta\" size=2>Input</font>**\n",
    "<br>\n",
    "1. **Validation Output Scores** (y_pred_valid)\n",
    "\n",
    "**<font color=\"blue\" size=2>Output</font>**\n",
    "<br>\n",
    "1. **predictions_valid**: The most probable prediction for each example in the the validation set\n",
    "2. **predictions_topn**: The top 5 predictions for each example in the validation set\n",
    "\n",
    "Sample output: \n",
    "1. **predictions_valid**: [1, 7]\n",
    "2. **predictions_top5**: [[1,  7,  3,  2,  9], [ 7,  2,  8,  4,  0]]"
   ]
  },
  {
   "cell_type": "code",
   "execution_count": 81,
   "metadata": {
    "ExecuteTime": {
     "end_time": "2018-06-11T00:14:17.494686Z",
     "start_time": "2018-06-11T00:14:17.487753Z"
    },
    "deletable": false,
    "nbgrader": {
     "checksum": "52c3989c248c7d23343a7a3576d09ebc",
     "grade": false,
     "grade_id": "cell-12ee152fd08b1fdf",
     "locked": false,
     "schema_version": 1,
     "solution": true
    }
   },
   "outputs": [],
   "source": [
    "def get_predictions(y_pred_valid):\n",
    "    idx = np.argsort(y_pred_valid)[:,::-1]\n",
    "    pred_valid = idx[:,0]\n",
    "    pred_top5 = idx[:,:5]\n",
    "    return pred_valid, pred_top5"
   ]
  },
  {
   "cell_type": "code",
   "execution_count": 82,
   "metadata": {
    "ExecuteTime": {
     "end_time": "2018-06-11T00:14:18.074548Z",
     "start_time": "2018-06-11T00:14:18.070330Z"
    },
    "deletable": false,
    "editable": false,
    "nbgrader": {
     "checksum": "07e0af168dba4b3ed41aad336f0993ce",
     "grade": false,
     "grade_id": "cell-149bfef984002316",
     "locked": true,
     "schema_version": 1,
     "solution": false
    }
   },
   "outputs": [],
   "source": [
    "predictions_valid, predictions_top5 = get_predictions(y_pred_valid)"
   ]
  },
  {
   "cell_type": "code",
   "execution_count": 83,
   "metadata": {
    "ExecuteTime": {
     "end_time": "2018-06-11T00:14:18.871930Z",
     "start_time": "2018-06-11T00:14:18.857470Z"
    },
    "deletable": false,
    "editable": false,
    "nbgrader": {
     "checksum": "e63db9194429d19d4df080a2a46247d7",
     "grade": true,
     "grade_id": "cell-02be6a89a5e44753",
     "locked": true,
     "points": 0,
     "schema_version": 1,
     "solution": false
    }
   },
   "outputs": [],
   "source": [
    "assert predictions_valid.shape == (118,), \"Incorrect shape\"\n",
    "assert predictions_top5.shape == (118, 5), \"Incorrect shape\"\n",
    "assert type(predictions_valid) == numpy.ndarray, \"Incorrect type\"\n",
    "assert type(predictions_top5) == numpy.ndarray, \"Incorrect type\""
   ]
  },
  {
   "cell_type": "code",
   "execution_count": 84,
   "metadata": {
    "ExecuteTime": {
     "end_time": "2018-06-11T00:14:19.440835Z",
     "start_time": "2018-06-11T00:14:19.435627Z"
    },
    "deletable": false,
    "editable": false,
    "nbgrader": {
     "checksum": "f93180e7cd0d8b36a27efcab97ee131f",
     "grade": true,
     "grade_id": "cell-bd4d60a046981072",
     "locked": true,
     "points": 3,
     "schema_version": 1,
     "solution": false
    }
   },
   "outputs": [],
   "source": [
    "# Hidden Tests Here"
   ]
  },
  {
   "cell_type": "code",
   "execution_count": 85,
   "metadata": {
    "ExecuteTime": {
     "end_time": "2018-06-11T00:14:19.818790Z",
     "start_time": "2018-06-11T00:14:19.814486Z"
    },
    "deletable": false,
    "editable": false,
    "nbgrader": {
     "checksum": "eb55db5e1be86caca2aa3ab312c4b18b",
     "grade": true,
     "grade_id": "cell-96dc65236185c2de",
     "locked": true,
     "points": 3,
     "schema_version": 1,
     "solution": false
    }
   },
   "outputs": [],
   "source": [
    "# Hidden Tests Here"
   ]
  },
  {
   "cell_type": "code",
   "execution_count": 86,
   "metadata": {
    "ExecuteTime": {
     "end_time": "2018-06-11T00:14:20.594008Z",
     "start_time": "2018-06-11T00:14:20.568169Z"
    },
    "deletable": false,
    "editable": false,
    "nbgrader": {
     "checksum": "143d0ce4a308aa7d06f9575c2bd4eae8",
     "grade": false,
     "grade_id": "cell-67e0884f8fe20312",
     "locked": true,
     "schema_version": 1,
     "solution": false
    }
   },
   "outputs": [
    {
     "name": "stdout",
     "output_type": "stream",
     "text": [
      "Top  1 : \t 0.7033898305084746\n",
      "Top  2 : \t 0.864406779661017\n",
      "Top  3 : \t 0.923728813559322\n",
      "Top  4 : \t 0.940677966101695\n",
      "Top  5 : \t 0.9491525423728814\n"
     ]
    }
   ],
   "source": [
    "acc = 0\n",
    "for i in range(5):\n",
    "    acc += sum(predictions_top5[:, i]==y_valid)\n",
    "    print(\"Top \", i+1, \": \\t\", acc/len(y_valid))"
   ]
  },
  {
   "cell_type": "markdown",
   "metadata": {
    "deletable": false,
    "editable": false,
    "nbgrader": {
     "checksum": "ae11965f7bdc7b1992b0440a256a9cb8",
     "grade": false,
     "grade_id": "cell-d839e3381ca150d2",
     "locked": true,
     "schema_version": 1,
     "solution": false
    }
   },
   "source": [
    "## Generating the confusion matrix\n",
    "\n",
    "What is a confusion matrix?\n",
    "This is a useful link that explains this: https://en.wikipedia.org/wiki/Confusion_matrix#Example\n",
    "\n",
    "We will be creating a confusion matrix by comparing the most probable prediction against the second most probable prediction. We are doing this to analyse the scenarios where the second most probable prediction is in fact the correct prediction.\n",
    "\n",
    "An example with 3 classes (0, 1, 2):\n",
    "\n",
    "If 2 is getting confused with 1, i.e., if 1 is the top prediction and 2 is the second-top prediction, then your confusion matrix should add 1 to the cell (1, 2).\n",
    "\n",
    "**<font color=\"magenta\" size=2>Sample Input</font>**\n",
    "<br>\n",
    "predictions_topn = [[1 2], [2 0], [1 2]]\n",
    "\n",
    "**<font color=\"blue\" size=2>Output</font>**\n",
    "<br>\n",
    "[0 0 0] <br>\n",
    "[0 0 2] <br>\n",
    "[1 0 0]"
   ]
  },
  {
   "cell_type": "code",
   "execution_count": 68,
   "metadata": {
    "ExecuteTime": {
     "end_time": "2018-06-11T00:10:19.825359Z",
     "start_time": "2018-06-11T00:10:19.812976Z"
    },
    "deletable": false,
    "nbgrader": {
     "checksum": "7d699411910542a6ba6066c149b8d16c",
     "grade": false,
     "grade_id": "cell-8e31e89d9f64d4d6",
     "locked": false,
     "schema_version": 1,
     "solution": true
    }
   },
   "outputs": [],
   "source": [
    "def get_confusion_matrix(predictions_top5, y_valid):\n",
    "    l = max(labels)+1\n",
    "    confusion_matrix = np.zeros((l,l))\n",
    "    for i in range(y_valid.shape[0]):\n",
    "        fir = predictions_top5[i,0]\n",
    "        sec = predictions_top5[i,1]\n",
    "        if sec == y_valid[i]:\n",
    "            confusion_matrix[fir,sec]+=1\n",
    "    return confusion_matrix"
   ]
  },
  {
   "cell_type": "code",
   "execution_count": 87,
   "metadata": {
    "ExecuteTime": {
     "end_time": "2018-06-11T00:14:26.997233Z",
     "start_time": "2018-06-11T00:14:26.992900Z"
    },
    "deletable": false,
    "editable": false,
    "nbgrader": {
     "checksum": "42eb13c3c2949e02433d098c2ff719d2",
     "grade": false,
     "grade_id": "cell-1ed771c7dfe188d5",
     "locked": true,
     "schema_version": 1,
     "solution": false
    }
   },
   "outputs": [],
   "source": [
    "confusion_matrix = get_confusion_matrix(predictions_top5, y_valid)"
   ]
  },
  {
   "cell_type": "code",
   "execution_count": 88,
   "metadata": {
    "ExecuteTime": {
     "end_time": "2018-06-11T00:14:27.777463Z",
     "start_time": "2018-06-11T00:14:27.767421Z"
    },
    "deletable": false,
    "editable": false,
    "nbgrader": {
     "checksum": "30f64df5996190f20057345d5b350424",
     "grade": true,
     "grade_id": "cell-157fe9078d64488b",
     "locked": true,
     "points": 0,
     "schema_version": 1,
     "solution": false
    }
   },
   "outputs": [],
   "source": [
    "assert confusion_matrix.shape == (11, 11), \"Incorrect shape\"\n",
    "assert type(confusion_matrix) == numpy.ndarray, \"Incorrect type\""
   ]
  },
  {
   "cell_type": "code",
   "execution_count": 89,
   "metadata": {
    "ExecuteTime": {
     "end_time": "2018-06-11T00:14:28.375425Z",
     "start_time": "2018-06-11T00:14:28.367150Z"
    },
    "deletable": false,
    "editable": false,
    "nbgrader": {
     "checksum": "0ece89a680d4322b71e45eae38485f04",
     "grade": true,
     "grade_id": "cell-b659fe7e4e082e91",
     "locked": true,
     "points": 4,
     "schema_version": 1,
     "solution": false
    }
   },
   "outputs": [],
   "source": [
    "# Hidden Tests Here"
   ]
  },
  {
   "cell_type": "code",
   "execution_count": 90,
   "metadata": {
    "ExecuteTime": {
     "end_time": "2018-06-11T00:14:28.884628Z",
     "start_time": "2018-06-11T00:14:28.869838Z"
    },
    "deletable": false,
    "editable": false,
    "nbgrader": {
     "checksum": "14b7dd6d42ae82a86e310c5705e73cfc",
     "grade": false,
     "grade_id": "cell-60985a0fe92e3ab9",
     "locked": true,
     "schema_version": 1,
     "solution": false
    }
   },
   "outputs": [
    {
     "name": "stdout",
     "output_type": "stream",
     "text": [
      "        Consumer Discretionary \t [0. 1. 0. 0. 0. 1. 1. 0. 0. 0. 0.]\n",
      "              Consumer Staples \t [1. 0. 0. 0. 0. 0. 0. 0. 0. 0. 0.]\n",
      "                        Energy \t [0. 0. 0. 0. 0. 0. 0. 0. 0. 0. 0.]\n",
      "                    Financials \t [2. 0. 0. 0. 0. 0. 1. 0. 0. 0. 0.]\n",
      "                   Health Care \t [0. 0. 0. 0. 0. 0. 2. 0. 0. 0. 0.]\n",
      "                   Industrials \t [1. 0. 0. 0. 0. 0. 2. 5. 0. 0. 0.]\n",
      "        Information Technology \t [1. 0. 0. 0. 0. 0. 0. 0. 0. 0. 0.]\n",
      "                     Materials \t [0. 0. 0. 0. 0. 1. 0. 0. 0. 0. 0.]\n",
      "                   Real Estate \t [0. 0. 0. 0. 0. 0. 0. 0. 0. 0. 0.]\n",
      "    Telecommunication Services \t [0. 0. 0. 0. 0. 0. 0. 0. 0. 0. 0.]\n",
      "                     Utilities \t [0. 0. 0. 0. 0. 0. 0. 0. 0. 0. 0.]\n"
     ]
    }
   ],
   "source": [
    "for i in range(confusion_matrix.shape[0]):\n",
    "    print(\"%30s\" % number2sectorName[i], \"\\t\", confusion_matrix[i, :])"
   ]
  },
  {
   "cell_type": "markdown",
   "metadata": {
    "deletable": false,
    "editable": false,
    "nbgrader": {
     "checksum": "84f58f5ad40f366a8915bd953ee7037d",
     "grade": false,
     "grade_id": "cell-0b2e2ac37d5f8694",
     "locked": true,
     "schema_version": 1,
     "solution": false
    }
   },
   "source": [
    "## Interpretation of confusion matrix\n",
    "\n",
    "Based on the confusion matrix generated, answer the following questions.\n",
    "\n",
    "Categories:\n",
    "```\n",
    "    0) Consumer Discretionary\n",
    "    1) Consumer Staples  \n",
    "    2) Energy  \n",
    "    3) Financials\n",
    "    4) Health Care   \n",
    "    5) Industrials   \n",
    "    6) Information Technology   \n",
    "    7) Materials   \n",
    "    8) Real Estate   \n",
    "    9) Telecommunication Services   \n",
    "    10) Utilities  \n",
    "```\n",
    "\n",
    "Some standard instructions while answering the questions:\n",
    "1. Each question has two parts: **ans** and **num_scen**\n",
    "    1. **ans**: A numpy array of numbers corresponding to the different categories. For example, if the answer is Consumer Discretionary and Consumer Staples, the **ans** string should be a **numpy array** contain **[0, 1]**\n",
    "    2. **num_scen**: Number of scenarios where the condition in the given question is applicable. For example, if the condition given in the question happens 5 times, the **num_scen** should return **5** as an integer.\n",
    "2. Type checks have been provided to validate the type of youe answer"
   ]
  },
  {
   "cell_type": "markdown",
   "metadata": {
    "deletable": false,
    "editable": false,
    "nbgrader": {
     "checksum": "1ed1036282b94be11d594912b7a0cbe4",
     "grade": false,
     "grade_id": "cell-68c1242a396f9445",
     "locked": true,
     "schema_version": 1,
     "solution": false
    }
   },
   "source": [
    "### Question 1\n",
    "\n",
    "Which two sectors are most often confused with each other and how many times? \n",
    "\n",
    "```\n",
    "    0) Consumer Discretionary  \n",
    "    1) Consumer Staples  \n",
    "    2) Energy  \n",
    "    3) Financials\n",
    "    4) Health Care   \n",
    "    5) Industrials   \n",
    "    6) Information Technology   \n",
    "    7) Materials   \n",
    "    8) Real Estate   \n",
    "    9) Telecommunication Services   \n",
    "    10) Utilities  \n",
    "```"
   ]
  },
  {
   "cell_type": "code",
   "execution_count": 97,
   "metadata": {
    "ExecuteTime": {
     "end_time": "2018-06-11T00:19:53.573990Z",
     "start_time": "2018-06-11T00:19:53.552813Z"
    },
    "deletable": false,
    "nbgrader": {
     "checksum": "6b731efd5b3ed186781626e98a26cd1b",
     "grade": false,
     "grade_id": "cell-67fa65ee294bbf52",
     "locked": false,
     "schema_version": 1,
     "solution": true
    }
   },
   "outputs": [
    {
     "data": {
      "text/plain": [
       "(array([5, 7]), 6)"
      ]
     },
     "execution_count": 97,
     "metadata": {},
     "output_type": "execute_result"
    }
   ],
   "source": [
    "def question_1():\n",
    "    l = confusion_matrix.shape[0]\n",
    "    num_scen1 = 0\n",
    "    ans1 = np.array([0,0])\n",
    "    for i in range(l):\n",
    "        for j in range(i+1,l):\n",
    "            s = int(confusion_matrix[i,j]+confusion_matrix[j,i])\n",
    "            if s> num_scen1:\n",
    "                num_scen1 = s\n",
    "                ans1 = np.array([i,j])\n",
    "    return ans1, num_scen1"
   ]
  },
  {
   "cell_type": "code",
   "execution_count": 96,
   "metadata": {
    "ExecuteTime": {
     "end_time": "2018-06-11T00:19:40.316380Z",
     "start_time": "2018-06-11T00:19:40.309019Z"
    },
    "deletable": false,
    "editable": false,
    "nbgrader": {
     "checksum": "d966eddf63436441691e18d67a2bb559",
     "grade": true,
     "grade_id": "cell-bf7603962387df88",
     "locked": true,
     "points": 0,
     "schema_version": 1,
     "solution": false
    }
   },
   "outputs": [],
   "source": [
    "ans1, num_scen1 = question_1()\n",
    "assert type(ans1) == np.ndarray, \"Incorrect type\"\n",
    "assert type(num_scen1) == int, \"Incorrect type\""
   ]
  },
  {
   "cell_type": "code",
   "execution_count": null,
   "metadata": {
    "ExecuteTime": {
     "end_time": "2018-06-10T07:44:28.394947Z",
     "start_time": "2018-06-10T07:44:28.389353Z"
    },
    "deletable": false,
    "editable": false,
    "nbgrader": {
     "checksum": "faeb6676c12ba9dd5c6adcd6a18d6022",
     "grade": true,
     "grade_id": "cell-d0a207dca2ce731e",
     "locked": true,
     "points": 2,
     "schema_version": 1,
     "solution": false
    }
   },
   "outputs": [],
   "source": [
    "# Hidden tests here"
   ]
  },
  {
   "cell_type": "code",
   "execution_count": null,
   "metadata": {
    "ExecuteTime": {
     "end_time": "2018-06-10T07:44:28.402563Z",
     "start_time": "2018-06-10T07:44:28.398119Z"
    },
    "deletable": false,
    "editable": false,
    "nbgrader": {
     "checksum": "d7ac960e4edcb3e14b5130a527bd0b25",
     "grade": true,
     "grade_id": "cell-d0a20ca2ce731e",
     "locked": true,
     "points": 2,
     "schema_version": 1,
     "solution": false
    }
   },
   "outputs": [],
   "source": [
    "# Hidden tests here"
   ]
  },
  {
   "cell_type": "markdown",
   "metadata": {
    "deletable": false,
    "editable": false,
    "nbgrader": {
     "checksum": "41eaf085a9b735c55f1d41c826660690",
     "grade": false,
     "grade_id": "cell-85c8458857446214",
     "locked": true,
     "schema_version": 1,
     "solution": false
    }
   },
   "source": [
    "### Question 2\n",
    "Which sector(s) has/have the most number of scenarios where the second-most probable prediction is actually correct? How many scenarios?\n",
    "\n",
    "```\n",
    "    0) Consumer Discretionary  \n",
    "    1) Consumer Staples  \n",
    "    2) Energy  \n",
    "    3) Financials\n",
    "    4) Health Care   \n",
    "    5) Industrials   \n",
    "    6) Information Technology   \n",
    "    7) Materials   \n",
    "    8) Real Estate   \n",
    "    9) Telecommunication Services   \n",
    "    10) Utilities  \n",
    "```"
   ]
  },
  {
   "cell_type": "code",
   "execution_count": 103,
   "metadata": {
    "ExecuteTime": {
     "end_time": "2018-06-11T00:23:28.456003Z",
     "start_time": "2018-06-11T00:23:28.435813Z"
    },
    "deletable": false,
    "nbgrader": {
     "checksum": "2b8d9b18449ec4580304882380e9a732",
     "grade": false,
     "grade_id": "cell-34137c196c56dd11",
     "locked": false,
     "schema_version": 1,
     "solution": true
    }
   },
   "outputs": [
    {
     "data": {
      "text/plain": [
       "(array([6]), 6)"
      ]
     },
     "execution_count": 103,
     "metadata": {},
     "output_type": "execute_result"
    }
   ],
   "source": [
    "def question_2():\n",
    "    l = confusion_matrix.shape[0]\n",
    "    num_scen2 = 0\n",
    "    ans2 = []\n",
    "    for i in range(l):\n",
    "        s = int(np.sum(confusion_matrix[:,i]))\n",
    "        if s==num_scen2:\n",
    "            ans2.append(i)\n",
    "        if s>num_scen2:\n",
    "            num_scen2 = s\n",
    "            ans2 = [i]\n",
    "        \n",
    "    return np.array(ans2), num_scen2 "
   ]
  },
  {
   "cell_type": "code",
   "execution_count": 104,
   "metadata": {
    "ExecuteTime": {
     "end_time": "2018-06-11T00:23:28.916025Z",
     "start_time": "2018-06-11T00:23:28.910130Z"
    },
    "deletable": false,
    "editable": false,
    "nbgrader": {
     "checksum": "d543a9b14a7587c9360bca73f5e602ae",
     "grade": true,
     "grade_id": "cell-3a56a331a146b70f",
     "locked": true,
     "points": 0,
     "schema_version": 1,
     "solution": false
    }
   },
   "outputs": [],
   "source": [
    "ans2, num_scen2 = question_2()\n",
    "assert type(ans2) == np.ndarray, \"Incorrect type\"\n",
    "assert type(num_scen2) == int, \"Incorrect type\""
   ]
  },
  {
   "cell_type": "code",
   "execution_count": null,
   "metadata": {
    "ExecuteTime": {
     "end_time": "2018-06-10T07:44:28.442394Z",
     "start_time": "2018-06-10T07:44:28.435328Z"
    },
    "deletable": false,
    "editable": false,
    "nbgrader": {
     "checksum": "669773f6e17f2eab30d53ae74ed843fb",
     "grade": true,
     "grade_id": "cell-d0a7dca2ce731e",
     "locked": true,
     "points": 1,
     "schema_version": 1,
     "solution": false
    }
   },
   "outputs": [],
   "source": [
    "# Hidden tests here"
   ]
  },
  {
   "cell_type": "code",
   "execution_count": null,
   "metadata": {
    "ExecuteTime": {
     "end_time": "2018-06-10T07:44:28.452243Z",
     "start_time": "2018-06-10T07:44:28.446026Z"
    },
    "deletable": false,
    "editable": false,
    "nbgrader": {
     "checksum": "c3b0c8bd714c851cc00b1d1b5ddf4646",
     "grade": true,
     "grade_id": "cell-d0a20ca2ce1e",
     "locked": true,
     "points": 1,
     "schema_version": 1,
     "solution": false
    }
   },
   "outputs": [],
   "source": [
    "# Hidden tests here"
   ]
  },
  {
   "cell_type": "markdown",
   "metadata": {
    "deletable": false,
    "editable": false,
    "nbgrader": {
     "checksum": "17a930fe112e6c2d95886bd9a1eca1a3",
     "grade": false,
     "grade_id": "cell-b14e32015cf9b095",
     "locked": true,
     "schema_version": 1,
     "solution": false
    }
   },
   "source": [
    "### Question 3\n",
    "\n",
    "Which sector(s) most often identified incorrectly? In other words, the sector recieves the highest score even though it is not the correct sector. How many times does this happen for each of these sectors?\n",
    "```\n",
    "    0) Consumer Discretionary  \n",
    "    1) Consumer Staples  \n",
    "    2) Energy  \n",
    "    3) Financials\n",
    "    4) Health Care   \n",
    "    5) Industrials   \n",
    "    6) Information Technology   \n",
    "    7) Materials   \n",
    "    8) Real Estate   \n",
    "    9) Telecommunication Services   \n",
    "    10) Utilities  \n",
    "```"
   ]
  },
  {
   "cell_type": "code",
   "execution_count": 105,
   "metadata": {
    "ExecuteTime": {
     "end_time": "2018-06-11T00:26:43.751055Z",
     "start_time": "2018-06-11T00:26:43.732323Z"
    },
    "deletable": false,
    "nbgrader": {
     "checksum": "15884eb0acc7926652d331fc1997f8f7",
     "grade": false,
     "grade_id": "cell-34137c196c5",
     "locked": false,
     "schema_version": 1,
     "solution": true
    }
   },
   "outputs": [
    {
     "data": {
      "text/plain": [
       "(array([5]), 8)"
      ]
     },
     "execution_count": 105,
     "metadata": {},
     "output_type": "execute_result"
    }
   ],
   "source": [
    "def question_3():\n",
    "    l = confusion_matrix.shape[0]\n",
    "    num_scen3 = 0\n",
    "    ans3 = []\n",
    "    for i in range(l):\n",
    "        s = int(np.sum(confusion_matrix[i,:]))\n",
    "        if s==num_scen3:\n",
    "            ans3.append(i)\n",
    "        if s>num_scen3:\n",
    "            num_scen3 = s\n",
    "            ans3 = [i]\n",
    "    return np.array(ans3), num_scen3 "
   ]
  },
  {
   "cell_type": "code",
   "execution_count": 106,
   "metadata": {
    "ExecuteTime": {
     "end_time": "2018-06-11T00:26:44.185063Z",
     "start_time": "2018-06-11T00:26:44.178841Z"
    },
    "deletable": false,
    "editable": false,
    "nbgrader": {
     "checksum": "01ed2fb4cd561868a79e3005267bc654",
     "grade": true,
     "grade_id": "cell-3aa146b70f",
     "locked": true,
     "points": 0,
     "schema_version": 1,
     "solution": false
    }
   },
   "outputs": [],
   "source": [
    "ans3, num_scen3 = question_3()\n",
    "assert type(ans3) == np.ndarray, \"Incorrect type\"\n",
    "assert type(num_scen3) == int, \"Incorrect type\""
   ]
  },
  {
   "cell_type": "code",
   "execution_count": null,
   "metadata": {
    "ExecuteTime": {
     "end_time": "2018-06-10T07:44:28.483686Z",
     "start_time": "2018-06-10T07:44:28.478845Z"
    },
    "deletable": false,
    "editable": false,
    "nbgrader": {
     "checksum": "14a19313f6cacc35201e49c6d54a4be2",
     "grade": true,
     "grade_id": "cell-d0a2ce731e",
     "locked": true,
     "points": 1,
     "schema_version": 1,
     "solution": false
    }
   },
   "outputs": [],
   "source": [
    "# Hidden tests here"
   ]
  },
  {
   "cell_type": "code",
   "execution_count": null,
   "metadata": {
    "ExecuteTime": {
     "end_time": "2018-06-10T07:44:28.491166Z",
     "start_time": "2018-06-10T07:44:28.487346Z"
    },
    "deletable": false,
    "editable": false,
    "nbgrader": {
     "checksum": "489095779511461ff89e14f98054eb92",
     "grade": true,
     "grade_id": "cell-d0a20c1e",
     "locked": true,
     "points": 1,
     "schema_version": 1,
     "solution": false
    }
   },
   "outputs": [],
   "source": [
    "# Hidden tests here"
   ]
  },
  {
   "cell_type": "markdown",
   "metadata": {
    "deletable": false,
    "editable": false,
    "nbgrader": {
     "checksum": "4379db419aeb4951bd4fe2a77d1229ac",
     "grade": false,
     "grade_id": "cell-f83c4f45ece367e2",
     "locked": true,
     "schema_version": 1,
     "solution": false
    }
   },
   "source": [
    "### Note for question 4 and 5\n",
    "**Note**: The next set of questions might require you to generate a different confusion matrix. Feel free to change the original function or use the box below to write a new function for the same."
   ]
  },
  {
   "cell_type": "code",
   "execution_count": 137,
   "metadata": {
    "ExecuteTime": {
     "end_time": "2018-06-11T00:40:32.461664Z",
     "start_time": "2018-06-11T00:40:32.450724Z"
    },
    "code_folding": [],
    "deletable": false,
    "nbgrader": {
     "checksum": "e243f28710b3e1108123ff9b31c58dc0",
     "grade": true,
     "grade_id": "cell-81118309a7120376",
     "locked": false,
     "points": 0,
     "schema_version": 1,
     "solution": true
    }
   },
   "outputs": [],
   "source": [
    "# YOUR CODE HERE\n",
    "def get_confusion_matrix_4(predictions_top5, y_valid):\n",
    "    l = max(labels)+1\n",
    "    cf = np.zeros((l,l))\n",
    "    for i in range(y_valid.shape[0]):\n",
    "        fir = predictions_top5[i,0]\n",
    "        cf[fir,y_valid[i]]+=1\n",
    "    return cf\n",
    "\n"
   ]
  },
  {
   "cell_type": "markdown",
   "metadata": {
    "deletable": false,
    "editable": false,
    "nbgrader": {
     "checksum": "9dedcc76e2f4cc370cb831c3ebe8a65b",
     "grade": false,
     "grade_id": "cell-c173a5759f316028",
     "locked": true,
     "schema_version": 1,
     "solution": false
    }
   },
   "source": [
    "### Question 4\n",
    "\n",
    "Which category/categories is/are never identified? In other words, which category/categories are never predicted as the top prediction?\n",
    "```\n",
    "    0) Consumer Discretionary  \n",
    "    1) Consumer Staples  \n",
    "    2) Energy  \n",
    "    3) Financials\n",
    "    4) Health Care   \n",
    "    5) Industrials   \n",
    "    6) Information Technology   \n",
    "    7) Materials   \n",
    "    8) Real Estate   \n",
    "    9) Telecommunication Services   \n",
    "    10) Utilities  \n",
    "```\n",
    "\n",
    "**Note**: This question does not have a second part, so your function has to return just one answer."
   ]
  },
  {
   "cell_type": "code",
   "execution_count": 138,
   "metadata": {
    "ExecuteTime": {
     "end_time": "2018-06-11T00:40:33.613514Z",
     "start_time": "2018-06-11T00:40:33.590837Z"
    },
    "deletable": false,
    "nbgrader": {
     "checksum": "87898fa374c41fb7fb6e69cfb64350bf",
     "grade": false,
     "grade_id": "cell-34137c1c5",
     "locked": false,
     "schema_version": 1,
     "solution": true
    }
   },
   "outputs": [],
   "source": [
    "def question_4():\n",
    "    cf = get_confusion_matrix_4(predictions_top5,y_valid)\n",
    "    l = cf.shape[0]\n",
    "    ans4 = []\n",
    "    for i in range(l):\n",
    "        if int(np.sum(cf[i,:]))==0:\n",
    "            ans4.append(i)\n",
    "    return np.array(ans4)"
   ]
  },
  {
   "cell_type": "code",
   "execution_count": 139,
   "metadata": {
    "ExecuteTime": {
     "end_time": "2018-06-11T00:40:34.178250Z",
     "start_time": "2018-06-11T00:40:34.173440Z"
    },
    "deletable": false,
    "editable": false,
    "nbgrader": {
     "checksum": "98cd6d4403794546a6315386d7bb2a01",
     "grade": true,
     "grade_id": "cell-3aa146b7lkbn0f",
     "locked": true,
     "points": 0,
     "schema_version": 1,
     "solution": false
    }
   },
   "outputs": [],
   "source": [
    "ans4 = question_4()\n",
    "assert type(ans4) == np.ndarray, \"Incorrect type\""
   ]
  },
  {
   "cell_type": "code",
   "execution_count": 140,
   "metadata": {
    "ExecuteTime": {
     "end_time": "2018-06-11T00:40:35.335434Z",
     "start_time": "2018-06-11T00:40:35.327819Z"
    },
    "deletable": false,
    "editable": false,
    "nbgrader": {
     "checksum": "9e5d5c562d45d7fa6c1b3869b032d19a",
     "grade": true,
     "grade_id": "cell-d0a2ce7jn31e",
     "locked": true,
     "points": 2,
     "schema_version": 1,
     "solution": false
    }
   },
   "outputs": [],
   "source": [
    "# Hidden tests here"
   ]
  },
  {
   "cell_type": "markdown",
   "metadata": {
    "deletable": false,
    "editable": false,
    "nbgrader": {
     "checksum": "fbdd7e1e6bb975ebcb70201f719e1c9d",
     "grade": false,
     "grade_id": "cell-f9ee96fe2999445d",
     "locked": true,
     "schema_version": 1,
     "solution": false
    }
   },
   "source": [
    "### Question 5\n",
    "\n",
    "Which sector(s) is/are most often missed while classifying? In other words, find the sector for which there is the largest number of examples such that the correct label does not appear as the top prediction.\n",
    "\n",
    "\n",
    "```\n",
    "    0) Consumer Discretionary  \n",
    "    1) Consumer Staples  \n",
    "    2) Energy  \n",
    "    3) Financials\n",
    "    4) Health Care   \n",
    "    5) Industrials   \n",
    "    6) Information Technology   \n",
    "    7) Materials   \n",
    "    8) Real Estate   \n",
    "    9) Telecommunication Services   \n",
    "    10) Utilities  \n",
    "```"
   ]
  },
  {
   "cell_type": "code",
   "execution_count": 145,
   "metadata": {
    "ExecuteTime": {
     "end_time": "2018-06-11T00:42:09.020133Z",
     "start_time": "2018-06-11T00:42:08.998882Z"
    },
    "deletable": false,
    "nbgrader": {
     "checksum": "35eeafbc17e0e922369cf319a50f72b1",
     "grade": false,
     "grade_id": "cell-34vd137c1c5",
     "locked": false,
     "schema_version": 1,
     "solution": true
    }
   },
   "outputs": [],
   "source": [
    "def question_5():\n",
    "    cf = get_confusion_matrix_4(predictions_top5,y_valid)\n",
    "    l = cf.shape[0]\n",
    "    ans5 = []\n",
    "    num_scen5 = 0\n",
    "    for i in range(l):\n",
    "        s = int(np.sum(cf[:,i]) - cf[i,i])\n",
    "        if s==num_scen5:\n",
    "            ans5.append(i)\n",
    "        if s>num_scen5:\n",
    "            num_scen5 = s\n",
    "            ans5 = [i]\n",
    "    return np.array(ans5), num_scen5"
   ]
  },
  {
   "cell_type": "code",
   "execution_count": 146,
   "metadata": {
    "ExecuteTime": {
     "end_time": "2018-06-11T00:42:09.491840Z",
     "start_time": "2018-06-11T00:42:09.485468Z"
    },
    "deletable": false,
    "editable": false,
    "nbgrader": {
     "checksum": "83530b0427a526c5787716d3eccff953",
     "grade": true,
     "grade_id": "cell-3aa146bsdv7lkbn0f",
     "locked": true,
     "points": 0,
     "schema_version": 1,
     "solution": false
    }
   },
   "outputs": [],
   "source": [
    "ans5, num_scen5 = question_5()\n",
    "assert type(ans5) == np.ndarray, \"Incorrect type\"\n",
    "assert type(num_scen5) == int, \"Incorrect type\""
   ]
  },
  {
   "cell_type": "code",
   "execution_count": null,
   "metadata": {
    "ExecuteTime": {
     "end_time": "2018-06-10T07:44:28.563331Z",
     "start_time": "2018-06-10T07:44:28.558725Z"
    },
    "deletable": false,
    "editable": false,
    "nbgrader": {
     "checksum": "35a039573c3ba2b9d07ad1b0f0132f83",
     "grade": true,
     "grade_id": "cell-d0sda2ce7jn31e",
     "locked": true,
     "points": 2,
     "schema_version": 1,
     "solution": false
    }
   },
   "outputs": [],
   "source": [
    "# Hidden tests here"
   ]
  },
  {
   "cell_type": "code",
   "execution_count": null,
   "metadata": {
    "ExecuteTime": {
     "end_time": "2018-06-10T07:44:28.570293Z",
     "start_time": "2018-06-10T07:44:28.565911Z"
    },
    "deletable": false,
    "editable": false,
    "nbgrader": {
     "checksum": "780b4eef264ee2b912e87c05f0de81c6",
     "grade": true,
     "grade_id": "cell-d0vdahb20c1e",
     "locked": true,
     "points": 2,
     "schema_version": 1,
     "solution": false
    }
   },
   "outputs": [],
   "source": [
    "# Hidden tests here"
   ]
  },
  {
   "cell_type": "markdown",
   "metadata": {
    "deletable": false,
    "editable": false,
    "nbgrader": {
     "checksum": "be19d4ec42cc1f3c110be68402f8eb1f",
     "grade": false,
     "grade_id": "cell-8be61fc0d1cb930e",
     "locked": true,
     "schema_version": 1,
     "solution": false
    }
   },
   "source": [
    "## Test set\n",
    "\n",
    "List the pair of top two sectors for each test ticker.\n",
    "Based on your validation results, estimate:\n",
    "1. ** Accuracy1:** What is the frequency in which the correct sector is the first element in the pair.\n",
    "2. ** Accuracy2:** What is the frequency in which the correct sector is in the pair."
   ]
  },
  {
   "cell_type": "markdown",
   "metadata": {
    "deletable": false,
    "editable": false,
    "nbgrader": {
     "checksum": "d8c493f52f0cef96d5b4d45c8124ddcd",
     "grade": false,
     "grade_id": "cell-67dd196da88a39af",
     "locked": true,
     "schema_version": 1,
     "solution": false
    }
   },
   "source": [
    "### Generating test scores\n",
    "\n",
    "The function <font color=\"blue\">get_margin_scores_test</font> is used to predict the sector for each of the given test samples. Split the input data into train and validation in different ways and average the prediction scores over a number of iterations. You can experiment with the number, but you will need to ensure you keep to the time limit. (This should not take you more than a minute)\n",
    "\n",
    "We estimate the predictions on the validation and the test set, compute the accuracy on the validation set and report the test predictions with the validation accuracy. In this scenario, we report the average top1 and top2 accuracy.\n",
    "\n",
    "**<font color=\"magenta\" size=2>Input</font>**\n",
    "<br>\n",
    "1. **Input data** (X)\n",
    "2. **Test data** (X_test)\n",
    "3. **Input labels** (y)\n",
    "4. **XGBoost Parameter List** (param)\n",
    "\n",
    "\n",
    "**<font color=\"blue\" size=2>Output</font>**\n",
    "<br>\n",
    "Return the following:\n",
    "1. **y_pred_test**: The raw output scores for the test set\n",
    "2. **top1_acc**: Top 1 accuracy on the validation set\n",
    "3. **top2_acc**: Top 2 accuracy on the validation set\n",
    "\n",
    "\n",
    "**Note**:\n",
    "1. You can reuse/call the <font color=\"blue\">get_margin_scores</font> function or rewrite it in this function.\n",
    "2. Instructions for the <font color=\"blue\">get_margin_scores</font> apply for this too."
   ]
  },
  {
   "cell_type": "code",
   "execution_count": 169,
   "metadata": {
    "ExecuteTime": {
     "end_time": "2018-06-11T01:07:41.979994Z",
     "start_time": "2018-06-11T01:07:41.861861Z"
    },
    "deletable": false,
    "nbgrader": {
     "checksum": "4fcb4c04e8e95aa4111b9bcae9a34a86",
     "grade": false,
     "grade_id": "cell-396107076b2ccef8",
     "locked": false,
     "schema_version": 1,
     "solution": true
    }
   },
   "outputs": [],
   "source": [
    "def get_margin_scores_test(X, X_test, y, param):\n",
    "    ratio = 0.7\n",
    "    iterations = 20\n",
    "    num_round = 100\n",
    "    res = []\n",
    "    top1_acc = []\n",
    "    top2_acc = []\n",
    "    \n",
    "    for i in range(iterations):\n",
    "        idx = np.random.choice(np.arange(len(X)), round(ratio*len(X)), replace=False)\n",
    "        X_train = X[idx,:]\n",
    "        y_train = y[idx]\n",
    "        valid_idx = np.setdiff1d(np.arange(len(X)),idx)\n",
    "        X_valid = X[valid_idx,:]\n",
    "        y_valid = y[valid_idx]\n",
    "        \n",
    "        dtrain = xgb.DMatrix(X_train, label=y_train)\n",
    "        dvalid = xgb.DMatrix(X_valid, label=y_valid)\n",
    "        dtest = xgb.DMatrix(X_test)\n",
    "        evallist = [(dtrain,'train'),(dvalid,'eval')]\n",
    "        \n",
    "        bst = xgb.train(param, dtrain, num_round, evallist,verbose_eval=False)\n",
    "        y_pred_valid = bst.predict(dvalid,output_margin=True, ntree_limit=bst.best_ntree_limit)\n",
    "        y_pred_valid = np.around(y_pred_valid,decimals = 3)\n",
    "        \n",
    "        _,top5 = get_predictions(y_pred_valid)\n",
    "        \n",
    "        top1 = 0\n",
    "        top2 = 0\n",
    "        for i in range(y_valid.shape[0]):\n",
    "            if y_valid[i] == top5[i,0]:\n",
    "                top1 +=1\n",
    "                top2 +=1\n",
    "            if y_valid[i] == top5[i,1]:\n",
    "                top2 +=1\n",
    "        top1 /= y_valid.shape[0]\n",
    "        top2 /= y_valid.shape[0]\n",
    "        top1_acc.append(top1)\n",
    "        top2_acc.append(top2)\n",
    "        \n",
    "        y_pred_test = bst.predict(dtest,output_margin=True, ntree_limit=bst.best_ntree_limit)\n",
    "        res.append(y_pred_test)\n",
    "    res = np.array(res)\n",
    "    top1_acc = np.mean(np.array(top1_acc))\n",
    "    top2_acc = np.mean(np.array(top2_acc))\n",
    "    return np.mean(res,axis=0),top1_acc,top2_acc"
   ]
  },
  {
   "cell_type": "code",
   "execution_count": 170,
   "metadata": {
    "ExecuteTime": {
     "end_time": "2018-06-11T01:07:45.386433Z",
     "start_time": "2018-06-11T01:07:42.542609Z"
    },
    "deletable": false,
    "editable": false,
    "nbgrader": {
     "checksum": "1dce9678115f161bbe3ee46244b25d86",
     "grade": false,
     "grade_id": "cell-5c19dfa7332f28e5",
     "locked": true,
     "schema_version": 1,
     "solution": false
    }
   },
   "outputs": [],
   "source": [
    "y_pred_test, top1_acc, top2_acc = get_margin_scores_test(X, X_test, y, param)"
   ]
  },
  {
   "cell_type": "code",
   "execution_count": 171,
   "metadata": {
    "ExecuteTime": {
     "end_time": "2018-06-11T01:07:45.582496Z",
     "start_time": "2018-06-11T01:07:45.579355Z"
    },
    "deletable": false,
    "editable": false,
    "nbgrader": {
     "checksum": "e581c8e3dc74faa02cc0efb0d3327e2d",
     "grade": true,
     "grade_id": "cell-4c7bb5430759629b",
     "locked": true,
     "points": 0,
     "schema_version": 1,
     "solution": false
    }
   },
   "outputs": [],
   "source": [
    "assert type(y_pred_test) == np.ndarray, \"\"\n",
    "assert y_pred_test.shape == (89, 11)"
   ]
  },
  {
   "cell_type": "code",
   "execution_count": null,
   "metadata": {
    "ExecuteTime": {
     "end_time": "2018-06-10T07:45:06.224852Z",
     "start_time": "2018-06-10T07:45:06.208985Z"
    },
    "deletable": false,
    "editable": false,
    "nbgrader": {
     "checksum": "0ae949f85bf7a252af309067d24f46a3",
     "grade": true,
     "grade_id": "cell-b877235a2a80c672",
     "locked": true,
     "points": 2,
     "schema_version": 1,
     "solution": false
    }
   },
   "outputs": [],
   "source": [
    "# Hidden tests here"
   ]
  },
  {
   "cell_type": "code",
   "execution_count": null,
   "metadata": {
    "ExecuteTime": {
     "end_time": "2018-06-10T07:45:06.234689Z",
     "start_time": "2018-06-10T07:45:06.227357Z"
    },
    "deletable": false,
    "editable": false,
    "nbgrader": {
     "checksum": "462dd904063645f7f00bdebc422e7171",
     "grade": true,
     "grade_id": "cell-0329170a30973225",
     "locked": true,
     "points": 2,
     "schema_version": 1,
     "solution": false
    }
   },
   "outputs": [],
   "source": [
    "# Hidden tests here"
   ]
  },
  {
   "cell_type": "code",
   "execution_count": null,
   "metadata": {
    "ExecuteTime": {
     "end_time": "2018-06-10T07:45:06.248481Z",
     "start_time": "2018-06-10T07:45:06.239285Z"
    },
    "deletable": false,
    "editable": false,
    "nbgrader": {
     "checksum": "e8fb122d97ce4c945718731506d954d5",
     "grade": true,
     "grade_id": "cell-38b270851d859ac7",
     "locked": true,
     "points": 2,
     "schema_version": 1,
     "solution": false
    }
   },
   "outputs": [],
   "source": [
    "# Hidden tests here"
   ]
  },
  {
   "cell_type": "markdown",
   "metadata": {
    "deletable": false,
    "editable": false,
    "nbgrader": {
     "checksum": "07efc969daadaf1828125d39b8135e82",
     "grade": false,
     "grade_id": "cell-a356322bc009212b",
     "locked": true,
     "schema_version": 1,
     "solution": false
    }
   },
   "source": [
    "### Computing the sector predictions\n",
    "\n",
    "**Note**: This section is not evaluated. This is merely to see your predictions on the test set and report the top1 and top2 accuracy"
   ]
  },
  {
   "cell_type": "code",
   "execution_count": 172,
   "metadata": {
    "ExecuteTime": {
     "end_time": "2018-06-11T01:08:00.610511Z",
     "start_time": "2018-06-11T01:08:00.585894Z"
    },
    "deletable": false,
    "editable": false,
    "nbgrader": {
     "checksum": "e526e2138d58b5a7454b4dd3daefa7e7",
     "grade": false,
     "grade_id": "cell-1f48f3c5accd241f",
     "locked": true,
     "schema_version": 1,
     "solution": false
    }
   },
   "outputs": [
    {
     "name": "stdout",
     "output_type": "stream",
     "text": [
      "   Test ID                 Top prediction          Second Top prediction\n",
      "         0                      Utilities     Telecommunication Services\n",
      "        10         Information Technology                         Energy\n",
      "        11                      Materials                         Energy\n",
      "        12                      Materials                    Industrials\n",
      "        13         Consumer Discretionary                    Real Estate\n",
      "        14                     Financials         Consumer Discretionary\n",
      "        15         Consumer Discretionary         Information Technology\n",
      "        16         Information Technology                    Industrials\n",
      "        17                         Energy         Consumer Discretionary\n",
      "        18                         Energy         Consumer Discretionary\n",
      "        19                         Energy                    Health Care\n",
      "         1                     Financials               Consumer Staples\n",
      "        20               Consumer Staples         Information Technology\n",
      "        21                    Industrials                      Materials\n",
      "        22         Consumer Discretionary         Information Technology\n",
      "        23                     Financials     Telecommunication Services\n",
      "        24                    Industrials                      Materials\n",
      "        25         Consumer Discretionary         Information Technology\n",
      "        26                     Financials         Information Technology\n",
      "        27                    Industrials                      Materials\n",
      "        28         Consumer Discretionary         Information Technology\n",
      "        29         Information Technology                      Utilities\n",
      "         2                    Health Care         Consumer Discretionary\n",
      "        30                      Materials                    Real Estate\n",
      "        31                      Materials                         Energy\n",
      "        32         Consumer Discretionary                     Financials\n",
      "        33         Information Technology                     Financials\n",
      "        34                      Utilities                    Industrials\n",
      "        35                     Financials                    Industrials\n",
      "        36                     Financials         Consumer Discretionary\n",
      "        37                         Energy               Consumer Staples\n",
      "        38         Consumer Discretionary               Consumer Staples\n",
      "        39                         Energy                      Materials\n",
      "         3         Information Technology                         Energy\n",
      "        40               Consumer Staples         Consumer Discretionary\n",
      "        41                     Financials                    Real Estate\n",
      "        42                    Health Care                    Industrials\n",
      "        43                    Industrials                      Materials\n",
      "        44         Information Technology                     Financials\n",
      "        45                     Financials                    Health Care\n",
      "        46         Consumer Discretionary                     Financials\n",
      "        47                    Health Care         Consumer Discretionary\n",
      "        48               Consumer Staples                    Health Care\n",
      "        49                    Industrials                      Materials\n",
      "         4                     Financials                    Health Care\n",
      "        50         Information Technology     Telecommunication Services\n",
      "        51         Consumer Discretionary         Information Technology\n",
      "        52         Consumer Discretionary         Information Technology\n",
      "        53               Consumer Staples                    Health Care\n",
      "        54         Information Technology         Consumer Discretionary\n",
      "        55                         Energy         Consumer Discretionary\n",
      "        56         Information Technology                      Utilities\n",
      "        57                    Real Estate         Consumer Discretionary\n",
      "        58               Consumer Staples                     Financials\n",
      "        59                         Energy         Consumer Discretionary\n",
      "         5                    Health Care         Consumer Discretionary\n",
      "        60         Consumer Discretionary               Consumer Staples\n",
      "        61                         Energy               Consumer Staples\n",
      "        62                    Industrials         Consumer Discretionary\n",
      "        63         Consumer Discretionary                    Real Estate\n",
      "        64                         Energy         Consumer Discretionary\n",
      "        65                     Financials                    Industrials\n",
      "        66                      Utilities     Telecommunication Services\n",
      "        67         Consumer Discretionary         Information Technology\n",
      "        68         Consumer Discretionary                    Health Care\n",
      "        69               Consumer Staples         Consumer Discretionary\n",
      "         6                         Energy         Consumer Discretionary\n",
      "        70                         Energy                      Materials\n",
      "        71               Consumer Staples         Consumer Discretionary\n",
      "        72                      Utilities     Telecommunication Services\n",
      "        73                      Materials                    Health Care\n",
      "        74         Information Technology         Consumer Discretionary\n",
      "        75         Information Technology                         Energy\n",
      "        76                    Industrials                    Health Care\n",
      "        77                         Energy                    Industrials\n",
      "        78                    Industrials         Consumer Discretionary\n",
      "        79         Consumer Discretionary                    Industrials\n",
      "         7         Information Technology                     Financials\n",
      "        80                    Industrials         Consumer Discretionary\n",
      "        81                      Materials                    Industrials\n",
      "        82                      Materials                    Industrials\n",
      "        83                    Industrials                    Health Care\n",
      "        84                    Health Care               Consumer Staples\n",
      "        85                      Materials                    Industrials\n",
      "        86         Consumer Discretionary                         Energy\n",
      "        87                      Materials                    Industrials\n",
      "        88                         Energy                      Materials\n",
      "         8                      Utilities     Telecommunication Services\n",
      "         9         Consumer Discretionary                    Industrials\n",
      "\n",
      "\n",
      "\n",
      "Top 1 accuracy: 76.01694915254238 %\n",
      "\n",
      "Top 2 accuracy: 87.66949152542374 %\n"
     ]
    }
   ],
   "source": [
    "predictions1, predictions5 = get_predictions(y_pred_test) #This line will fail if get_predictions is not defined\n",
    "i=0\n",
    "print(\"%10s\" % \"Test ID\", \"%30s\" % \"Top prediction\", \"%30s\" % \"Second Top prediction\")\n",
    "for entry in predictions5[:, :2]:\n",
    "    print(\"%10s\" % test_nos[i], \"%30s\" % number2sectorName[entry[0]], \"%30s\" % number2sectorName[entry[1]])\n",
    "    i += 1\n",
    "top1_acc_perc = top1_acc*100\n",
    "top2_acc_perc = top2_acc*100\n",
    "print(\"\\n\\n\\nTop 1 accuracy: %s\" % top1_acc_perc, \"%\")\n",
    "print(\"\\nTop 2 accuracy: %s\" % top2_acc_perc, \"%\")"
   ]
  },
  {
   "cell_type": "code",
   "execution_count": null,
   "metadata": {},
   "outputs": [],
   "source": []
  }
 ],
 "metadata": {
  "hide_input": false,
  "kernelspec": {
   "display_name": "Python 3",
   "language": "python",
   "name": "python3"
  },
  "language_info": {
   "codemirror_mode": {
    "name": "ipython",
    "version": 3
   },
   "file_extension": ".py",
   "mimetype": "text/x-python",
   "name": "python",
   "nbconvert_exporter": "python",
   "pygments_lexer": "ipython3",
   "version": "3.6.5"
  },
  "toc": {
   "base_numbering": 1,
   "nav_menu": {},
   "number_sections": true,
   "sideBar": true,
   "skip_h1_title": false,
   "title_cell": "Table of Contents",
   "title_sidebar": "Contents",
   "toc_cell": false,
   "toc_position": {},
   "toc_section_display": true,
   "toc_window_display": true
  },
  "varInspector": {
   "cols": {
    "lenName": 16,
    "lenType": 16,
    "lenVar": 40
   },
   "kernels_config": {
    "python": {
     "delete_cmd_postfix": "",
     "delete_cmd_prefix": "del ",
     "library": "var_list.py",
     "varRefreshCmd": "print(var_dic_list())"
    },
    "r": {
     "delete_cmd_postfix": ") ",
     "delete_cmd_prefix": "rm(",
     "library": "var_list.r",
     "varRefreshCmd": "cat(var_dic_list()) "
    }
   },
   "types_to_exclude": [
    "module",
    "function",
    "builtin_function_or_method",
    "instance",
    "_Feature"
   ],
   "window_display": false
  }
 },
 "nbformat": 4,
 "nbformat_minor": 2
}
